{
  "cells": [
    {
      "cell_type": "markdown",
      "metadata": {
        "id": "alIIEHibGc3M"
      },
      "source": [
        "## Part 1: Preprocessing"
      ]
    },
    {
      "cell_type": "code",
      "execution_count": 32,
      "metadata": {
        "colab": {
          "base_uri": "https://localhost:8080/",
          "height": 325
        },
        "id": "6eDUJ4NtGc3P",
        "outputId": "2480098c-135c-4cbf-9552-018494ee8ff5"
      },
      "outputs": [
        {
          "data": {
            "text/html": [
              "<div>\n",
              "<style scoped>\n",
              "    .dataframe tbody tr th:only-of-type {\n",
              "        vertical-align: middle;\n",
              "    }\n",
              "\n",
              "    .dataframe tbody tr th {\n",
              "        vertical-align: top;\n",
              "    }\n",
              "\n",
              "    .dataframe thead th {\n",
              "        text-align: right;\n",
              "    }\n",
              "</style>\n",
              "<table border=\"1\" class=\"dataframe\">\n",
              "  <thead>\n",
              "    <tr style=\"text-align: right;\">\n",
              "      <th></th>\n",
              "      <th>Age</th>\n",
              "      <th>Attrition</th>\n",
              "      <th>BusinessTravel</th>\n",
              "      <th>Department</th>\n",
              "      <th>DistanceFromHome</th>\n",
              "      <th>Education</th>\n",
              "      <th>EducationField</th>\n",
              "      <th>EnvironmentSatisfaction</th>\n",
              "      <th>HourlyRate</th>\n",
              "      <th>JobInvolvement</th>\n",
              "      <th>...</th>\n",
              "      <th>PerformanceRating</th>\n",
              "      <th>RelationshipSatisfaction</th>\n",
              "      <th>StockOptionLevel</th>\n",
              "      <th>TotalWorkingYears</th>\n",
              "      <th>TrainingTimesLastYear</th>\n",
              "      <th>WorkLifeBalance</th>\n",
              "      <th>YearsAtCompany</th>\n",
              "      <th>YearsInCurrentRole</th>\n",
              "      <th>YearsSinceLastPromotion</th>\n",
              "      <th>YearsWithCurrManager</th>\n",
              "    </tr>\n",
              "  </thead>\n",
              "  <tbody>\n",
              "    <tr>\n",
              "      <th>0</th>\n",
              "      <td>41</td>\n",
              "      <td>Yes</td>\n",
              "      <td>Travel_Rarely</td>\n",
              "      <td>Sales</td>\n",
              "      <td>1</td>\n",
              "      <td>2</td>\n",
              "      <td>Life Sciences</td>\n",
              "      <td>2</td>\n",
              "      <td>94</td>\n",
              "      <td>3</td>\n",
              "      <td>...</td>\n",
              "      <td>3</td>\n",
              "      <td>1</td>\n",
              "      <td>0</td>\n",
              "      <td>8</td>\n",
              "      <td>0</td>\n",
              "      <td>1</td>\n",
              "      <td>6</td>\n",
              "      <td>4</td>\n",
              "      <td>0</td>\n",
              "      <td>5</td>\n",
              "    </tr>\n",
              "    <tr>\n",
              "      <th>1</th>\n",
              "      <td>49</td>\n",
              "      <td>No</td>\n",
              "      <td>Travel_Frequently</td>\n",
              "      <td>Research &amp; Development</td>\n",
              "      <td>8</td>\n",
              "      <td>1</td>\n",
              "      <td>Life Sciences</td>\n",
              "      <td>3</td>\n",
              "      <td>61</td>\n",
              "      <td>2</td>\n",
              "      <td>...</td>\n",
              "      <td>4</td>\n",
              "      <td>4</td>\n",
              "      <td>1</td>\n",
              "      <td>10</td>\n",
              "      <td>3</td>\n",
              "      <td>3</td>\n",
              "      <td>10</td>\n",
              "      <td>7</td>\n",
              "      <td>1</td>\n",
              "      <td>7</td>\n",
              "    </tr>\n",
              "    <tr>\n",
              "      <th>2</th>\n",
              "      <td>37</td>\n",
              "      <td>Yes</td>\n",
              "      <td>Travel_Rarely</td>\n",
              "      <td>Research &amp; Development</td>\n",
              "      <td>2</td>\n",
              "      <td>2</td>\n",
              "      <td>Other</td>\n",
              "      <td>4</td>\n",
              "      <td>92</td>\n",
              "      <td>2</td>\n",
              "      <td>...</td>\n",
              "      <td>3</td>\n",
              "      <td>2</td>\n",
              "      <td>0</td>\n",
              "      <td>7</td>\n",
              "      <td>3</td>\n",
              "      <td>3</td>\n",
              "      <td>0</td>\n",
              "      <td>0</td>\n",
              "      <td>0</td>\n",
              "      <td>0</td>\n",
              "    </tr>\n",
              "    <tr>\n",
              "      <th>3</th>\n",
              "      <td>33</td>\n",
              "      <td>No</td>\n",
              "      <td>Travel_Frequently</td>\n",
              "      <td>Research &amp; Development</td>\n",
              "      <td>3</td>\n",
              "      <td>4</td>\n",
              "      <td>Life Sciences</td>\n",
              "      <td>4</td>\n",
              "      <td>56</td>\n",
              "      <td>3</td>\n",
              "      <td>...</td>\n",
              "      <td>3</td>\n",
              "      <td>3</td>\n",
              "      <td>0</td>\n",
              "      <td>8</td>\n",
              "      <td>3</td>\n",
              "      <td>3</td>\n",
              "      <td>8</td>\n",
              "      <td>7</td>\n",
              "      <td>3</td>\n",
              "      <td>0</td>\n",
              "    </tr>\n",
              "    <tr>\n",
              "      <th>4</th>\n",
              "      <td>27</td>\n",
              "      <td>No</td>\n",
              "      <td>Travel_Rarely</td>\n",
              "      <td>Research &amp; Development</td>\n",
              "      <td>2</td>\n",
              "      <td>1</td>\n",
              "      <td>Medical</td>\n",
              "      <td>1</td>\n",
              "      <td>40</td>\n",
              "      <td>3</td>\n",
              "      <td>...</td>\n",
              "      <td>3</td>\n",
              "      <td>4</td>\n",
              "      <td>1</td>\n",
              "      <td>6</td>\n",
              "      <td>3</td>\n",
              "      <td>3</td>\n",
              "      <td>2</td>\n",
              "      <td>2</td>\n",
              "      <td>2</td>\n",
              "      <td>2</td>\n",
              "    </tr>\n",
              "  </tbody>\n",
              "</table>\n",
              "<p>5 rows × 27 columns</p>\n",
              "</div>"
            ],
            "text/plain": [
              "   Age Attrition     BusinessTravel              Department  DistanceFromHome  \\\n",
              "0   41       Yes      Travel_Rarely                   Sales                 1   \n",
              "1   49        No  Travel_Frequently  Research & Development                 8   \n",
              "2   37       Yes      Travel_Rarely  Research & Development                 2   \n",
              "3   33        No  Travel_Frequently  Research & Development                 3   \n",
              "4   27        No      Travel_Rarely  Research & Development                 2   \n",
              "\n",
              "   Education EducationField  EnvironmentSatisfaction  HourlyRate  \\\n",
              "0          2  Life Sciences                        2          94   \n",
              "1          1  Life Sciences                        3          61   \n",
              "2          2          Other                        4          92   \n",
              "3          4  Life Sciences                        4          56   \n",
              "4          1        Medical                        1          40   \n",
              "\n",
              "   JobInvolvement  ...  PerformanceRating RelationshipSatisfaction  \\\n",
              "0               3  ...                  3                        1   \n",
              "1               2  ...                  4                        4   \n",
              "2               2  ...                  3                        2   \n",
              "3               3  ...                  3                        3   \n",
              "4               3  ...                  3                        4   \n",
              "\n",
              "   StockOptionLevel TotalWorkingYears  TrainingTimesLastYear WorkLifeBalance  \\\n",
              "0                 0                 8                      0               1   \n",
              "1                 1                10                      3               3   \n",
              "2                 0                 7                      3               3   \n",
              "3                 0                 8                      3               3   \n",
              "4                 1                 6                      3               3   \n",
              "\n",
              "   YearsAtCompany  YearsInCurrentRole  YearsSinceLastPromotion  \\\n",
              "0               6                   4                        0   \n",
              "1              10                   7                        1   \n",
              "2               0                   0                        0   \n",
              "3               8                   7                        3   \n",
              "4               2                   2                        2   \n",
              "\n",
              "   YearsWithCurrManager  \n",
              "0                     5  \n",
              "1                     7  \n",
              "2                     0  \n",
              "3                     0  \n",
              "4                     2  \n",
              "\n",
              "[5 rows x 27 columns]"
            ]
          },
          "execution_count": 32,
          "metadata": {},
          "output_type": "execute_result"
        }
      ],
      "source": [
        "# Import our dependencies\n",
        "from sklearn.model_selection import train_test_split\n",
        "from sklearn.preprocessing import StandardScaler\n",
        "import pandas as pd\n",
        "import numpy as np\n",
        "from tensorflow.keras.models import Model\n",
        "from tensorflow.keras import layers\n",
        "\n",
        "#  Import and read the attrition data\n",
        "attrition_df = pd.read_csv('https://static.bc-edx.com/ai/ail-v-1-0/m19/lms/datasets/attrition.csv')\n",
        "attrition_df.head()"
      ]
    },
    {
      "cell_type": "code",
      "execution_count": 33,
      "metadata": {
        "colab": {
          "base_uri": "https://localhost:8080/"
        },
        "id": "g22aQSY4Gc3Q",
        "outputId": "1f5c13c1-b981-4e40-a7ed-dd3fe6f1b81e"
      },
      "outputs": [
        {
          "data": {
            "text/plain": [
              "HourlyRate                  71\n",
              "Age                         43\n",
              "TotalWorkingYears           40\n",
              "YearsAtCompany              37\n",
              "DistanceFromHome            29\n",
              "YearsInCurrentRole          19\n",
              "YearsWithCurrManager        18\n",
              "YearsSinceLastPromotion     16\n",
              "PercentSalaryHike           15\n",
              "NumCompaniesWorked          10\n",
              "JobRole                      9\n",
              "TrainingTimesLastYear        7\n",
              "EducationField               6\n",
              "JobLevel                     5\n",
              "Education                    5\n",
              "EnvironmentSatisfaction      4\n",
              "JobInvolvement               4\n",
              "JobSatisfaction              4\n",
              "RelationshipSatisfaction     4\n",
              "StockOptionLevel             4\n",
              "WorkLifeBalance              4\n",
              "Department                   3\n",
              "BusinessTravel               3\n",
              "MaritalStatus                3\n",
              "OverTime                     2\n",
              "Attrition                    2\n",
              "PerformanceRating            2\n",
              "dtype: int64"
            ]
          },
          "execution_count": 33,
          "metadata": {},
          "output_type": "execute_result"
        }
      ],
      "source": [
        "# Determine the number of unique values in each column.\n",
        "attrition_df.nunique().sort_values(ascending=False)"
      ]
    },
    {
      "cell_type": "code",
      "execution_count": 34,
      "metadata": {
        "id": "50vMgBEnJbfM"
      },
      "outputs": [],
      "source": [
        "# Create y_df with the Attrition and Department columns\n",
        "y_df = attrition_df[[\"Attrition\", \"Department\"]]"
      ]
    },
    {
      "cell_type": "code",
      "execution_count": 35,
      "metadata": {
        "colab": {
          "base_uri": "https://localhost:8080/"
        },
        "id": "Virka0zLGc3R",
        "outputId": "dd5aee3a-9458-4ba6-e857-1b234de40915"
      },
      "outputs": [
        {
          "name": "stdout",
          "output_type": "stream",
          "text": [
            "<class 'pandas.core.frame.DataFrame'>\n",
            "RangeIndex: 1470 entries, 0 to 1469\n",
            "Data columns (total 25 columns):\n",
            " #   Column                    Non-Null Count  Dtype \n",
            "---  ------                    --------------  ----- \n",
            " 0   Age                       1470 non-null   int64 \n",
            " 1   BusinessTravel            1470 non-null   object\n",
            " 2   DistanceFromHome          1470 non-null   int64 \n",
            " 3   Education                 1470 non-null   int64 \n",
            " 4   EducationField            1470 non-null   object\n",
            " 5   EnvironmentSatisfaction   1470 non-null   int64 \n",
            " 6   HourlyRate                1470 non-null   int64 \n",
            " 7   JobInvolvement            1470 non-null   int64 \n",
            " 8   JobLevel                  1470 non-null   int64 \n",
            " 9   JobRole                   1470 non-null   object\n",
            " 10  JobSatisfaction           1470 non-null   int64 \n",
            " 11  MaritalStatus             1470 non-null   object\n",
            " 12  NumCompaniesWorked        1470 non-null   int64 \n",
            " 13  OverTime                  1470 non-null   object\n",
            " 14  PercentSalaryHike         1470 non-null   int64 \n",
            " 15  PerformanceRating         1470 non-null   int64 \n",
            " 16  RelationshipSatisfaction  1470 non-null   int64 \n",
            " 17  StockOptionLevel          1470 non-null   int64 \n",
            " 18  TotalWorkingYears         1470 non-null   int64 \n",
            " 19  TrainingTimesLastYear     1470 non-null   int64 \n",
            " 20  WorkLifeBalance           1470 non-null   int64 \n",
            " 21  YearsAtCompany            1470 non-null   int64 \n",
            " 22  YearsInCurrentRole        1470 non-null   int64 \n",
            " 23  YearsSinceLastPromotion   1470 non-null   int64 \n",
            " 24  YearsWithCurrManager      1470 non-null   int64 \n",
            "dtypes: int64(20), object(5)\n",
            "memory usage: 287.2+ KB\n"
          ]
        }
      ],
      "source": [
        "# Create a list of at least 10 column names to use as X data\n",
        "X_columns_to_include = [\n",
        "    column_name\n",
        "    for column_name in attrition_df.columns\n",
        "    if column_name not in (\"Attrition\", \"Department\")\n",
        "]\n",
        "\n",
        "# Create X_df using your selected columns\n",
        "X_df = attrition_df[X_columns_to_include]\n",
        "\n",
        "# Show the data types for X_df\n",
        "X_df.info()"
      ]
    },
    {
      "cell_type": "code",
      "execution_count": 37,
      "metadata": {
        "id": "KaJfdOGUMHMR"
      },
      "outputs": [],
      "source": [
        "# Split the data into training and testing sets\n",
        "from sklearn.model_selection import train_test_split\n",
        "\n",
        "X_train, X_test, y_train, y_test = train_test_split(X_df, y_df, test_size=0.2, random_state=42)\n"
      ]
    },
    {
      "cell_type": "code",
      "execution_count": 46,
      "metadata": {
        "colab": {
          "base_uri": "https://localhost:8080/"
        },
        "id": "NYubUJqiLCSp",
        "outputId": "53f31721-571c-4c94-d13e-25a715749593"
      },
      "outputs": [
        {
          "name": "stdout",
          "output_type": "stream",
          "text": [
            "Value counts for OverTime in training set:\n",
            "OverTime\n",
            "0    837\n",
            "1    339\n",
            "Name: count, dtype: int64\n",
            "Value counts for BusinessTravel in training set:\n",
            "BusinessTravel\n",
            "2    835\n",
            "1    228\n",
            "0    113\n",
            "Name: count, dtype: int64\n",
            "Value counts for EducationField in training set:\n",
            "EducationField\n",
            "1    491\n",
            "3    369\n",
            "2    124\n",
            "5    101\n",
            "4     69\n",
            "0     22\n",
            "Name: count, dtype: int64\n",
            "Value counts for JobRole in training set:\n",
            "JobRole\n",
            "7    254\n",
            "6    242\n",
            "2    204\n",
            "4    107\n",
            "0    105\n",
            "3     79\n",
            "8     75\n",
            "5     68\n",
            "1     42\n",
            "Name: count, dtype: int64\n",
            "Value counts for MaritalStatus in training set:\n",
            "MaritalStatus\n",
            "1    550\n",
            "2    359\n",
            "0    267\n",
            "Name: count, dtype: int64\n",
            "Value counts for OverTime in test set:\n",
            "OverTime\n",
            "0    217\n",
            "1     77\n",
            "Name: count, dtype: int64\n",
            "Value counts for BusinessTravel in test set:\n",
            "BusinessTravel\n",
            "5    208\n",
            "4     49\n",
            "3     37\n",
            "Name: count, dtype: int64\n",
            "Value counts for EducationField in test set:\n",
            "EducationField\n",
            "7     115\n",
            "9      95\n",
            "8      35\n",
            "11     31\n",
            "10     13\n",
            "6       5\n",
            "Name: count, dtype: int64\n",
            "Value counts for JobRole in test set:\n",
            "JobRole\n",
            "16    72\n",
            "11    55\n",
            "15    50\n",
            "13    38\n",
            "9     26\n",
            "12    23\n",
            "14    12\n",
            "10    10\n",
            "17     8\n",
            "Name: count, dtype: int64\n",
            "Value counts for MaritalStatus in test set:\n",
            "MaritalStatus\n",
            "4    123\n",
            "5    111\n",
            "3     60\n",
            "Name: count, dtype: int64\n"
          ]
        }
      ],
      "source": [
        "from sklearn.preprocessing import LabelEncoder\n",
        "\n",
        "# Create an instance of the label encoder\n",
        "le = LabelEncoder()\n",
        "\n",
        "# List of categorical columns to be encoded\n",
        "categorical_columns = [\n",
        "    \"OverTime\",\n",
        "    \"BusinessTravel\",\n",
        "    \"EducationField\",\n",
        "    \"JobRole\",\n",
        "    \"MaritalStatus\",\n",
        "]\n",
        "\n",
        "# Fit the label encoder on the combined data from both training and test sets\n",
        "for column in categorical_columns:\n",
        "    combined_data = list(X_train[column]) + list(X_test[column])\n",
        "    le.fit(combined_data)\n",
        "\n",
        "    # Transform the training data\n",
        "    X_train[column] = le.transform(X_train[column])\n",
        "\n",
        "    # Transform the test data\n",
        "    X_test[column] = le.transform(X_test[column])\n",
        "\n",
        "# Print value counts for each encoded column in the training set\n",
        "for column in categorical_columns:\n",
        "    print(f\"Value counts for {column} in training set:\")\n",
        "    print(X_train[column].value_counts())\n",
        "\n",
        "# Print value counts for each encoded column in the test set\n",
        "for column in categorical_columns:\n",
        "    print(f\"Value counts for {column} in test set:\")\n",
        "    print(X_test[column].value_counts())"
      ]
    },
    {
      "cell_type": "code",
      "execution_count": 47,
      "metadata": {
        "id": "EWA-aIA5Gc3T"
      },
      "outputs": [],
      "source": [
        "# Create a StandardScaler\n",
        "scaler = StandardScaler()\n",
        "\n",
        "# Fit the StandardScaler to the training data\n",
        "X_scaler = scaler.fit(X_train)\n",
        "\n",
        "# Scale the training and testing data\n",
        "X_train_scaled = X_scaler.transform(X_train)\n",
        "X_test_scaled = X_scaler.transform(X_test)"
      ]
    },
    {
      "cell_type": "code",
      "execution_count": 48,
      "metadata": {},
      "outputs": [
        {
          "data": {
            "text/html": [
              "<div>\n",
              "<style scoped>\n",
              "    .dataframe tbody tr th:only-of-type {\n",
              "        vertical-align: middle;\n",
              "    }\n",
              "\n",
              "    .dataframe tbody tr th {\n",
              "        vertical-align: top;\n",
              "    }\n",
              "\n",
              "    .dataframe thead th {\n",
              "        text-align: right;\n",
              "    }\n",
              "</style>\n",
              "<table border=\"1\" class=\"dataframe\">\n",
              "  <thead>\n",
              "    <tr style=\"text-align: right;\">\n",
              "      <th></th>\n",
              "      <th>Age</th>\n",
              "      <th>BusinessTravel</th>\n",
              "      <th>DistanceFromHome</th>\n",
              "      <th>Education</th>\n",
              "      <th>EducationField</th>\n",
              "      <th>EnvironmentSatisfaction</th>\n",
              "      <th>HourlyRate</th>\n",
              "      <th>JobInvolvement</th>\n",
              "      <th>JobLevel</th>\n",
              "      <th>JobRole</th>\n",
              "      <th>...</th>\n",
              "      <th>PerformanceRating</th>\n",
              "      <th>RelationshipSatisfaction</th>\n",
              "      <th>StockOptionLevel</th>\n",
              "      <th>TotalWorkingYears</th>\n",
              "      <th>TrainingTimesLastYear</th>\n",
              "      <th>WorkLifeBalance</th>\n",
              "      <th>YearsAtCompany</th>\n",
              "      <th>YearsInCurrentRole</th>\n",
              "      <th>YearsSinceLastPromotion</th>\n",
              "      <th>YearsWithCurrManager</th>\n",
              "    </tr>\n",
              "  </thead>\n",
              "  <tbody>\n",
              "    <tr>\n",
              "      <th>0</th>\n",
              "      <td>-1.388559</td>\n",
              "      <td>0.589281</td>\n",
              "      <td>1.440396</td>\n",
              "      <td>-0.863356</td>\n",
              "      <td>2.085607</td>\n",
              "      <td>0.279706</td>\n",
              "      <td>-0.472832</td>\n",
              "      <td>-1.012340</td>\n",
              "      <td>-0.932274</td>\n",
              "      <td>-1.008801</td>\n",
              "      <td>...</td>\n",
              "      <td>-0.429290</td>\n",
              "      <td>-0.639822</td>\n",
              "      <td>2.547471</td>\n",
              "      <td>-1.167368</td>\n",
              "      <td>0.157319</td>\n",
              "      <td>0.357435</td>\n",
              "      <td>-0.974263</td>\n",
              "      <td>-0.888208</td>\n",
              "      <td>-0.676110</td>\n",
              "      <td>-1.142448</td>\n",
              "    </tr>\n",
              "    <tr>\n",
              "      <th>1</th>\n",
              "      <td>-2.040738</td>\n",
              "      <td>-2.463556</td>\n",
              "      <td>-0.522699</td>\n",
              "      <td>-0.863356</td>\n",
              "      <td>-0.930284</td>\n",
              "      <td>-0.639104</td>\n",
              "      <td>0.309374</td>\n",
              "      <td>0.389912</td>\n",
              "      <td>-0.932274</td>\n",
              "      <td>0.609133</td>\n",
              "      <td>...</td>\n",
              "      <td>-0.429290</td>\n",
              "      <td>1.211176</td>\n",
              "      <td>-0.945525</td>\n",
              "      <td>-1.423397</td>\n",
              "      <td>-0.613546</td>\n",
              "      <td>0.357435</td>\n",
              "      <td>-1.138573</td>\n",
              "      <td>-1.165051</td>\n",
              "      <td>-0.676110</td>\n",
              "      <td>-1.142448</td>\n",
              "    </tr>\n",
              "    <tr>\n",
              "      <th>2</th>\n",
              "      <td>-0.845077</td>\n",
              "      <td>0.589281</td>\n",
              "      <td>1.317703</td>\n",
              "      <td>-0.863356</td>\n",
              "      <td>-0.176312</td>\n",
              "      <td>1.198515</td>\n",
              "      <td>-1.059487</td>\n",
              "      <td>0.389912</td>\n",
              "      <td>-0.025447</td>\n",
              "      <td>1.013617</td>\n",
              "      <td>...</td>\n",
              "      <td>-0.429290</td>\n",
              "      <td>1.211176</td>\n",
              "      <td>0.218807</td>\n",
              "      <td>-0.143254</td>\n",
              "      <td>-0.613546</td>\n",
              "      <td>0.357435</td>\n",
              "      <td>-0.645643</td>\n",
              "      <td>-0.611364</td>\n",
              "      <td>-0.676110</td>\n",
              "      <td>-0.575084</td>\n",
              "    </tr>\n",
              "    <tr>\n",
              "      <th>3</th>\n",
              "      <td>0.241886</td>\n",
              "      <td>0.589281</td>\n",
              "      <td>0.336155</td>\n",
              "      <td>0.099933</td>\n",
              "      <td>0.577661</td>\n",
              "      <td>1.198515</td>\n",
              "      <td>-0.032841</td>\n",
              "      <td>0.389912</td>\n",
              "      <td>-0.025447</td>\n",
              "      <td>-0.199834</td>\n",
              "      <td>...</td>\n",
              "      <td>2.329427</td>\n",
              "      <td>0.285677</td>\n",
              "      <td>-0.945525</td>\n",
              "      <td>-0.527297</td>\n",
              "      <td>0.157319</td>\n",
              "      <td>0.357435</td>\n",
              "      <td>-0.317023</td>\n",
              "      <td>-0.057676</td>\n",
              "      <td>-0.355244</td>\n",
              "      <td>-1.142448</td>\n",
              "    </tr>\n",
              "    <tr>\n",
              "      <th>4</th>\n",
              "      <td>-0.627685</td>\n",
              "      <td>0.589281</td>\n",
              "      <td>1.317703</td>\n",
              "      <td>0.099933</td>\n",
              "      <td>-0.930284</td>\n",
              "      <td>-0.639104</td>\n",
              "      <td>1.091580</td>\n",
              "      <td>0.389912</td>\n",
              "      <td>-0.025447</td>\n",
              "      <td>-1.008801</td>\n",
              "      <td>...</td>\n",
              "      <td>-0.429290</td>\n",
              "      <td>-1.565321</td>\n",
              "      <td>0.218807</td>\n",
              "      <td>-0.143254</td>\n",
              "      <td>-0.613546</td>\n",
              "      <td>0.357435</td>\n",
              "      <td>0.504527</td>\n",
              "      <td>1.049700</td>\n",
              "      <td>-0.676110</td>\n",
              "      <td>-0.575084</td>\n",
              "    </tr>\n",
              "  </tbody>\n",
              "</table>\n",
              "<p>5 rows × 25 columns</p>\n",
              "</div>"
            ],
            "text/plain": [
              "        Age  BusinessTravel  DistanceFromHome  Education  EducationField  \\\n",
              "0 -1.388559        0.589281          1.440396  -0.863356        2.085607   \n",
              "1 -2.040738       -2.463556         -0.522699  -0.863356       -0.930284   \n",
              "2 -0.845077        0.589281          1.317703  -0.863356       -0.176312   \n",
              "3  0.241886        0.589281          0.336155   0.099933        0.577661   \n",
              "4 -0.627685        0.589281          1.317703   0.099933       -0.930284   \n",
              "\n",
              "   EnvironmentSatisfaction  HourlyRate  JobInvolvement  JobLevel   JobRole  \\\n",
              "0                 0.279706   -0.472832       -1.012340 -0.932274 -1.008801   \n",
              "1                -0.639104    0.309374        0.389912 -0.932274  0.609133   \n",
              "2                 1.198515   -1.059487        0.389912 -0.025447  1.013617   \n",
              "3                 1.198515   -0.032841        0.389912 -0.025447 -0.199834   \n",
              "4                -0.639104    1.091580        0.389912 -0.025447 -1.008801   \n",
              "\n",
              "   ...  PerformanceRating  RelationshipSatisfaction  StockOptionLevel  \\\n",
              "0  ...          -0.429290                 -0.639822          2.547471   \n",
              "1  ...          -0.429290                  1.211176         -0.945525   \n",
              "2  ...          -0.429290                  1.211176          0.218807   \n",
              "3  ...           2.329427                  0.285677         -0.945525   \n",
              "4  ...          -0.429290                 -1.565321          0.218807   \n",
              "\n",
              "   TotalWorkingYears  TrainingTimesLastYear  WorkLifeBalance  YearsAtCompany  \\\n",
              "0          -1.167368               0.157319         0.357435       -0.974263   \n",
              "1          -1.423397              -0.613546         0.357435       -1.138573   \n",
              "2          -0.143254              -0.613546         0.357435       -0.645643   \n",
              "3          -0.527297               0.157319         0.357435       -0.317023   \n",
              "4          -0.143254              -0.613546         0.357435        0.504527   \n",
              "\n",
              "   YearsInCurrentRole  YearsSinceLastPromotion  YearsWithCurrManager  \n",
              "0           -0.888208                -0.676110             -1.142448  \n",
              "1           -1.165051                -0.676110             -1.142448  \n",
              "2           -0.611364                -0.676110             -0.575084  \n",
              "3           -0.057676                -0.355244             -1.142448  \n",
              "4            1.049700                -0.676110             -0.575084  \n",
              "\n",
              "[5 rows x 25 columns]"
            ]
          },
          "execution_count": 48,
          "metadata": {},
          "output_type": "execute_result"
        }
      ],
      "source": [
        "pd.DataFrame(X_train_scaled, columns=X_train.columns).head()"
      ]
    },
    {
      "cell_type": "code",
      "execution_count": 18,
      "metadata": {
        "colab": {
          "base_uri": "https://localhost:8080/"
        },
        "id": "-z0Mky8vQSz4",
        "outputId": "debefc85-c20b-48f5-f4d9-91eadd65d36a"
      },
      "outputs": [],
      "source": [
        "# Create a OneHotEncoder for the Department column\n",
        "\n",
        "\n",
        "# Fit the encoder to the training data\n",
        "\n",
        "\n",
        "# Create two new variables by applying the encoder\n",
        "# to the training and testing data\n",
        "\n",
        "\n"
      ]
    },
    {
      "cell_type": "code",
      "execution_count": 19,
      "metadata": {
        "colab": {
          "base_uri": "https://localhost:8080/"
        },
        "id": "-G4DSpvFRrk4",
        "outputId": "9842e948-8a55-4b80-8fac-f96714e85589"
      },
      "outputs": [],
      "source": [
        "# Create a OneHotEncoder for the Attrition column\n",
        "\n",
        "\n",
        "# Fit the encoder to the training data\n",
        "\n",
        "\n",
        "# Create two new variables by applying the encoder\n",
        "# to the training and testing data\n",
        "\n"
      ]
    },
    {
      "cell_type": "markdown",
      "metadata": {
        "id": "ykNmu_WWGc3T"
      },
      "source": [
        "## Create, Compile, and Train the Model"
      ]
    },
    {
      "cell_type": "code",
      "execution_count": 20,
      "metadata": {
        "id": "WUptZqmSGc3T"
      },
      "outputs": [],
      "source": [
        "# Find the number of columns in the X training data\n",
        "\n",
        "\n",
        "# Create the input layer\n",
        "\n",
        "\n",
        "# Create at least two shared layers\n"
      ]
    },
    {
      "cell_type": "code",
      "execution_count": 21,
      "metadata": {
        "id": "JukjTm2yTEqd"
      },
      "outputs": [],
      "source": [
        "# Create a branch for Department\n",
        "# with a hidden layer and an output layer\n",
        "\n",
        "# Create the hidden layer\n",
        "\n",
        "\n",
        "# Create the output layer\n",
        "\n"
      ]
    },
    {
      "cell_type": "code",
      "execution_count": 22,
      "metadata": {
        "id": "9OqhUiOJUBkR"
      },
      "outputs": [],
      "source": [
        "# Create a branch for Attrition\n",
        "# with a hidden layer and an output layer\n",
        "\n",
        "# Create the hidden layer\n",
        "\n",
        "\n",
        "# Create the output layer\n",
        "\n"
      ]
    },
    {
      "cell_type": "code",
      "execution_count": 23,
      "metadata": {
        "colab": {
          "base_uri": "https://localhost:8080/"
        },
        "id": "twmuejdxGc3T",
        "outputId": "25096308-b68b-42e4-e4ea-ae82e97c435a"
      },
      "outputs": [],
      "source": [
        "# Create the model\n",
        "\n",
        "\n",
        "# Compile the model\n",
        "\n",
        "\n",
        "# Summarize the model\n"
      ]
    },
    {
      "cell_type": "code",
      "execution_count": 24,
      "metadata": {
        "colab": {
          "base_uri": "https://localhost:8080/"
        },
        "id": "c8oGy0dpGc3U",
        "outputId": "cc667d43-28cf-42d4-d719-c2bc02888d30"
      },
      "outputs": [],
      "source": [
        "# Train the model\n",
        "\n"
      ]
    },
    {
      "cell_type": "code",
      "execution_count": 25,
      "metadata": {
        "colab": {
          "base_uri": "https://localhost:8080/"
        },
        "id": "VsMoaQlgGc3U",
        "outputId": "1bd4e601-e964-4abc-ad83-aeecf6b696be"
      },
      "outputs": [],
      "source": [
        "# Evaluate the model with the testing data\n"
      ]
    },
    {
      "cell_type": "code",
      "execution_count": 26,
      "metadata": {
        "colab": {
          "base_uri": "https://localhost:8080/"
        },
        "id": "ZlCtlHi0Vt54",
        "outputId": "bc21ef3e-80c2-4b38-9c29-79515bc23dec"
      },
      "outputs": [],
      "source": [
        "# Print the accuracy for both department and attrition\n"
      ]
    },
    {
      "cell_type": "markdown",
      "metadata": {
        "id": "eGSyfsZfWOQM"
      },
      "source": [
        "# Summary\n",
        "\n",
        "In the provided space below, briefly answer the following questions.\n",
        "\n",
        "1. Is accuracy the best metric to use on this data? Why or why not?\n",
        "\n",
        "2. What activation functions did you choose for your output layers, and why?\n",
        "\n",
        "3. Can you name a few ways that this model might be improved?"
      ]
    },
    {
      "cell_type": "markdown",
      "metadata": {
        "id": "pi9SLpFnWvbF"
      },
      "source": [
        "YOUR ANSWERS HERE\n",
        "\n",
        "1. \n",
        "2. \n",
        "3. "
      ]
    },
    {
      "cell_type": "markdown",
      "metadata": {},
      "source": []
    }
  ],
  "metadata": {
    "colab": {
      "provenance": []
    },
    "kernelspec": {
      "display_name": "Python 3",
      "language": "python",
      "name": "python3"
    },
    "language_info": {
      "codemirror_mode": {
        "name": "ipython",
        "version": 3
      },
      "file_extension": ".py",
      "mimetype": "text/x-python",
      "name": "python",
      "nbconvert_exporter": "python",
      "pygments_lexer": "ipython3",
      "version": "3.10.13"
    },
    "vscode": {
      "interpreter": {
        "hash": "31f2aee4e71d21fbe5cf8b01ff0e069b9275f58929596ceb00d14d90e3e16cd6"
      }
    }
  },
  "nbformat": 4,
  "nbformat_minor": 0
}
